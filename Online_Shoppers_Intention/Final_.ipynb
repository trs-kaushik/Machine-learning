{
 "cells": [
  {
   "cell_type": "code",
   "execution_count": 116,
   "metadata": {},
   "outputs": [],
   "source": [
    "import pandas as pd\n",
    "import warnings\n",
    "warnings.filterwarnings(\"ignore\")\n",
    "plt.rcParams['figure.figsize'] = (7, 5)\n",
    "from sklearn.linear_model import LogisticRegression\n",
    "from sklearn.ensemble import RandomForestClassifier\n",
    "from sklearn.tree import DecisionTreeClassifier\n",
    "from sklearn.metrics import classification_report,confusion_matrix,auc,roc_auc_score,accuracy_score,roc_curve\n",
    "from sklearn.preprocessing import StandardScaler\n",
    "from sklearn.model_selection import GridSearchCV"
   ]
  },
  {
   "cell_type": "code",
   "execution_count": 117,
   "metadata": {},
   "outputs": [],
   "source": [
    "df = pd.read_csv(\"online_shoppers_intention.csv\")"
   ]
  },
  {
   "cell_type": "code",
   "execution_count": 118,
   "metadata": {},
   "outputs": [],
   "source": [
    "df[\"SpecialDay\"] = df[\"SpecialDay\"].astype(\"object\")"
   ]
  },
  {
   "cell_type": "code",
   "execution_count": 119,
   "metadata": {},
   "outputs": [],
   "source": [
    "df = df[df[\"VisitorType\"]!=\"Other\"]"
   ]
  },
  {
   "cell_type": "code",
   "execution_count": 120,
   "metadata": {},
   "outputs": [],
   "source": [
    "df[\"Weekend\"] = df[\"Weekend\"].map({True:1,False:0})\n",
    "#df[\"Revenue\"] = df[\"Revenue\"].map({True:1,False:0})"
   ]
  },
  {
   "cell_type": "code",
   "execution_count": 121,
   "metadata": {},
   "outputs": [],
   "source": [
    "from sklearn.preprocessing import LabelEncoder\n",
    "cat_cols = [\"Month\",\"VisitorType\"]\n",
    "le  = LabelEncoder()\n",
    "for var in cat_cols:\n",
    "    df[var] = le.fit_transform(df[var])"
   ]
  },
  {
   "cell_type": "code",
   "execution_count": 122,
   "metadata": {},
   "outputs": [
    {
     "data": {
      "text/plain": [
       "(12245, 18)"
      ]
     },
     "execution_count": 122,
     "metadata": {},
     "output_type": "execute_result"
    }
   ],
   "source": [
    "df.shape"
   ]
  },
  {
   "cell_type": "code",
   "execution_count": 123,
   "metadata": {},
   "outputs": [
    {
     "data": {
      "text/html": [
       "<div>\n",
       "<style scoped>\n",
       "    .dataframe tbody tr th:only-of-type {\n",
       "        vertical-align: middle;\n",
       "    }\n",
       "\n",
       "    .dataframe tbody tr th {\n",
       "        vertical-align: top;\n",
       "    }\n",
       "\n",
       "    .dataframe thead th {\n",
       "        text-align: right;\n",
       "    }\n",
       "</style>\n",
       "<table border=\"1\" class=\"dataframe\">\n",
       "  <thead>\n",
       "    <tr style=\"text-align: right;\">\n",
       "      <th></th>\n",
       "      <th>Administrative</th>\n",
       "      <th>Administrative_Duration</th>\n",
       "      <th>Informational</th>\n",
       "      <th>Informational_Duration</th>\n",
       "      <th>ProductRelated</th>\n",
       "      <th>ProductRelated_Duration</th>\n",
       "      <th>BounceRates</th>\n",
       "      <th>ExitRates</th>\n",
       "      <th>PageValues</th>\n",
       "      <th>SpecialDay</th>\n",
       "      <th>Month</th>\n",
       "      <th>OperatingSystems</th>\n",
       "      <th>Browser</th>\n",
       "      <th>Region</th>\n",
       "      <th>TrafficType</th>\n",
       "      <th>VisitorType</th>\n",
       "      <th>Weekend</th>\n",
       "      <th>Revenue</th>\n",
       "    </tr>\n",
       "  </thead>\n",
       "  <tbody>\n",
       "    <tr>\n",
       "      <th>0</th>\n",
       "      <td>0</td>\n",
       "      <td>0.0</td>\n",
       "      <td>0</td>\n",
       "      <td>0.0</td>\n",
       "      <td>1</td>\n",
       "      <td>0.000000</td>\n",
       "      <td>0.20</td>\n",
       "      <td>0.20</td>\n",
       "      <td>0.0</td>\n",
       "      <td>0</td>\n",
       "      <td>2</td>\n",
       "      <td>1</td>\n",
       "      <td>1</td>\n",
       "      <td>1</td>\n",
       "      <td>1</td>\n",
       "      <td>1</td>\n",
       "      <td>0</td>\n",
       "      <td>False</td>\n",
       "    </tr>\n",
       "    <tr>\n",
       "      <th>1</th>\n",
       "      <td>0</td>\n",
       "      <td>0.0</td>\n",
       "      <td>0</td>\n",
       "      <td>0.0</td>\n",
       "      <td>2</td>\n",
       "      <td>64.000000</td>\n",
       "      <td>0.00</td>\n",
       "      <td>0.10</td>\n",
       "      <td>0.0</td>\n",
       "      <td>0</td>\n",
       "      <td>2</td>\n",
       "      <td>2</td>\n",
       "      <td>2</td>\n",
       "      <td>1</td>\n",
       "      <td>2</td>\n",
       "      <td>1</td>\n",
       "      <td>0</td>\n",
       "      <td>False</td>\n",
       "    </tr>\n",
       "    <tr>\n",
       "      <th>2</th>\n",
       "      <td>0</td>\n",
       "      <td>0.0</td>\n",
       "      <td>0</td>\n",
       "      <td>0.0</td>\n",
       "      <td>1</td>\n",
       "      <td>0.000000</td>\n",
       "      <td>0.20</td>\n",
       "      <td>0.20</td>\n",
       "      <td>0.0</td>\n",
       "      <td>0</td>\n",
       "      <td>2</td>\n",
       "      <td>4</td>\n",
       "      <td>1</td>\n",
       "      <td>9</td>\n",
       "      <td>3</td>\n",
       "      <td>1</td>\n",
       "      <td>0</td>\n",
       "      <td>False</td>\n",
       "    </tr>\n",
       "    <tr>\n",
       "      <th>3</th>\n",
       "      <td>0</td>\n",
       "      <td>0.0</td>\n",
       "      <td>0</td>\n",
       "      <td>0.0</td>\n",
       "      <td>2</td>\n",
       "      <td>2.666667</td>\n",
       "      <td>0.05</td>\n",
       "      <td>0.14</td>\n",
       "      <td>0.0</td>\n",
       "      <td>0</td>\n",
       "      <td>2</td>\n",
       "      <td>3</td>\n",
       "      <td>2</td>\n",
       "      <td>2</td>\n",
       "      <td>4</td>\n",
       "      <td>1</td>\n",
       "      <td>0</td>\n",
       "      <td>False</td>\n",
       "    </tr>\n",
       "    <tr>\n",
       "      <th>4</th>\n",
       "      <td>0</td>\n",
       "      <td>0.0</td>\n",
       "      <td>0</td>\n",
       "      <td>0.0</td>\n",
       "      <td>10</td>\n",
       "      <td>627.500000</td>\n",
       "      <td>0.02</td>\n",
       "      <td>0.05</td>\n",
       "      <td>0.0</td>\n",
       "      <td>0</td>\n",
       "      <td>2</td>\n",
       "      <td>3</td>\n",
       "      <td>3</td>\n",
       "      <td>1</td>\n",
       "      <td>4</td>\n",
       "      <td>1</td>\n",
       "      <td>1</td>\n",
       "      <td>False</td>\n",
       "    </tr>\n",
       "  </tbody>\n",
       "</table>\n",
       "</div>"
      ],
      "text/plain": [
       "   Administrative  Administrative_Duration  Informational  \\\n",
       "0               0                      0.0              0   \n",
       "1               0                      0.0              0   \n",
       "2               0                      0.0              0   \n",
       "3               0                      0.0              0   \n",
       "4               0                      0.0              0   \n",
       "\n",
       "   Informational_Duration  ProductRelated  ProductRelated_Duration  \\\n",
       "0                     0.0               1                 0.000000   \n",
       "1                     0.0               2                64.000000   \n",
       "2                     0.0               1                 0.000000   \n",
       "3                     0.0               2                 2.666667   \n",
       "4                     0.0              10               627.500000   \n",
       "\n",
       "   BounceRates  ExitRates  PageValues SpecialDay  Month  OperatingSystems  \\\n",
       "0         0.20       0.20         0.0          0      2                 1   \n",
       "1         0.00       0.10         0.0          0      2                 2   \n",
       "2         0.20       0.20         0.0          0      2                 4   \n",
       "3         0.05       0.14         0.0          0      2                 3   \n",
       "4         0.02       0.05         0.0          0      2                 3   \n",
       "\n",
       "   Browser  Region  TrafficType  VisitorType  Weekend  Revenue  \n",
       "0        1       1            1            1        0    False  \n",
       "1        2       1            2            1        0    False  \n",
       "2        1       9            3            1        0    False  \n",
       "3        2       2            4            1        0    False  \n",
       "4        3       1            4            1        1    False  "
      ]
     },
     "execution_count": 123,
     "metadata": {},
     "output_type": "execute_result"
    }
   ],
   "source": [
    "df.head()"
   ]
  },
  {
   "cell_type": "code",
   "execution_count": 124,
   "metadata": {},
   "outputs": [],
   "source": [
    "X = df.drop([\"Revenue\"],axis=1)\n",
    "y = df[\"Revenue\"]"
   ]
  },
  {
   "cell_type": "code",
   "execution_count": 125,
   "metadata": {},
   "outputs": [],
   "source": [
    "from sklearn.model_selection import train_test_split\n",
    "X_train, X_test, y_train, y_test = train_test_split(X, y, test_size=0.3, random_state=42)"
   ]
  },
  {
   "cell_type": "code",
   "execution_count": 108,
   "metadata": {},
   "outputs": [],
   "source": [
    "sc = StandardScaler()\n",
    "\n",
    "X_train = sc.fit_transform(X_train)\n",
    "X_test = sc.transform(X_test)\n",
    "\n",
    "X_train = pd.DataFrame(X_train,columns=X.columns)\n",
    "X_test = pd.DataFrame(X_test,columns=X.columns)"
   ]
  },
  {
   "cell_type": "markdown",
   "metadata": {},
   "source": [
    "###### Smoting Training data alone"
   ]
  },
  {
   "cell_type": "code",
   "execution_count": 126,
   "metadata": {},
   "outputs": [
    {
     "name": "stdout",
     "output_type": "stream",
     "text": [
      "Before OverSampling, counts of label '1': 1333\n",
      "Before OverSampling, counts of label '0': 7238 \n",
      "\n",
      "After OverSampling, counts of label '1': 7238\n",
      "After OverSampling, counts of label '0': 7238\n"
     ]
    }
   ],
   "source": [
    "\n",
    "from imblearn.over_sampling import SMOTE\n",
    "print(\"Before OverSampling, counts of label '1': {}\".format(sum(y_train==1)))\n",
    "print(\"Before OverSampling, counts of label '0': {} \\n\".format(sum(y_train==0)))\n",
    "\n",
    "sm = SMOTE(random_state=2,ratio=1)\n",
    "X_train_res, y_train_res = sm.fit_resample(X_train, y_train)\n",
    "\n",
    "print(\"After OverSampling, counts of label '1': {}\".format(sum(y_train_res==1)))\n",
    "print(\"After OverSampling, counts of label '0': {}\".format(sum(y_train_res==0)))"
   ]
  },
  {
   "cell_type": "code",
   "execution_count": 127,
   "metadata": {},
   "outputs": [],
   "source": [
    "X_train_res = pd.DataFrame(X_train_res,columns = X_train.columns)"
   ]
  },
  {
   "cell_type": "markdown",
   "metadata": {},
   "source": [
    "##### Random Forest"
   ]
  },
  {
   "cell_type": "code",
   "execution_count": 128,
   "metadata": {},
   "outputs": [
    {
     "name": "stdout",
     "output_type": "stream",
     "text": [
      "              precision    recall  f1-score   support\n",
      "\n",
      "       False       0.95      0.92      0.94      3115\n",
      "        True       0.63      0.74      0.68       559\n",
      "\n",
      "    accuracy                           0.89      3674\n",
      "   macro avg       0.79      0.83      0.81      3674\n",
      "weighted avg       0.90      0.89      0.90      3674\n",
      "\n",
      "Accuracy on training set: 1.000\n",
      "Accuracy on test set: 0.894\n"
     ]
    }
   ],
   "source": [
    "RF=RandomForestClassifier(random_state=0,max_depth=40,min_samples_split=2,min_samples_leaf=1,n_estimators=300)\n",
    "RF.fit(X_train_res, y_train_res)\n",
    "y_pred_RF = RF.predict(X_test)\n",
    "print(classification_report(y_test,y_pred_RF))\n",
    "\n",
    "print(\"Accuracy on training set: {:.3f}\".format(RF.score(X_train_res, y_train_res)))\n",
    "print(\"Accuracy on test set: {:.3f}\".format(RF.score(X_test, y_test)))"
   ]
  },
  {
   "cell_type": "markdown",
   "metadata": {},
   "source": [
    "##### Random Forest Hyper Parameter tuning"
   ]
  },
  {
   "cell_type": "code",
   "execution_count": 54,
   "metadata": {
    "scrolled": true
   },
   "outputs": [
    {
     "name": "stdout",
     "output_type": "stream",
     "text": [
      "Fitting 5 folds for each of 27 candidates, totalling 135 fits\n",
      "[CV] criterion=gini, max_depth=20, min_samples_leaf=1, min_samples_split=2, n_estimators=300 \n"
     ]
    },
    {
     "name": "stderr",
     "output_type": "stream",
     "text": [
      "[Parallel(n_jobs=1)]: Using backend SequentialBackend with 1 concurrent workers.\n"
     ]
    },
    {
     "name": "stdout",
     "output_type": "stream",
     "text": [
      "[CV]  criterion=gini, max_depth=20, min_samples_leaf=1, min_samples_split=2, n_estimators=300, score=0.876, total=   3.9s\n",
      "[CV] criterion=gini, max_depth=20, min_samples_leaf=1, min_samples_split=2, n_estimators=300 \n"
     ]
    },
    {
     "name": "stderr",
     "output_type": "stream",
     "text": [
      "[Parallel(n_jobs=1)]: Done   1 out of   1 | elapsed:    3.8s remaining:    0.0s\n"
     ]
    },
    {
     "name": "stdout",
     "output_type": "stream",
     "text": [
      "[CV]  criterion=gini, max_depth=20, min_samples_leaf=1, min_samples_split=2, n_estimators=300, score=0.893, total=   3.5s\n",
      "[CV] criterion=gini, max_depth=20, min_samples_leaf=1, min_samples_split=2, n_estimators=300 \n"
     ]
    },
    {
     "name": "stderr",
     "output_type": "stream",
     "text": [
      "[Parallel(n_jobs=1)]: Done   2 out of   2 | elapsed:    7.4s remaining:    0.0s\n"
     ]
    },
    {
     "name": "stdout",
     "output_type": "stream",
     "text": [
      "[CV]  criterion=gini, max_depth=20, min_samples_leaf=1, min_samples_split=2, n_estimators=300, score=0.881, total=   3.4s\n",
      "[CV] criterion=gini, max_depth=20, min_samples_leaf=1, min_samples_split=2, n_estimators=300 \n",
      "[CV]  criterion=gini, max_depth=20, min_samples_leaf=1, min_samples_split=2, n_estimators=300, score=0.941, total=   3.5s\n",
      "[CV] criterion=gini, max_depth=20, min_samples_leaf=1, min_samples_split=2, n_estimators=300 \n",
      "[CV]  criterion=gini, max_depth=20, min_samples_leaf=1, min_samples_split=2, n_estimators=300, score=0.940, total=   3.4s\n",
      "[CV] criterion=gini, max_depth=20, min_samples_leaf=1, min_samples_split=4, n_estimators=300 \n",
      "[CV]  criterion=gini, max_depth=20, min_samples_leaf=1, min_samples_split=4, n_estimators=300, score=0.876, total=   3.7s\n",
      "[CV] criterion=gini, max_depth=20, min_samples_leaf=1, min_samples_split=4, n_estimators=300 \n",
      "[CV]  criterion=gini, max_depth=20, min_samples_leaf=1, min_samples_split=4, n_estimators=300, score=0.888, total=   3.3s\n",
      "[CV] criterion=gini, max_depth=20, min_samples_leaf=1, min_samples_split=4, n_estimators=300 \n",
      "[CV]  criterion=gini, max_depth=20, min_samples_leaf=1, min_samples_split=4, n_estimators=300, score=0.882, total=   3.3s\n",
      "[CV] criterion=gini, max_depth=20, min_samples_leaf=1, min_samples_split=4, n_estimators=300 \n",
      "[CV]  criterion=gini, max_depth=20, min_samples_leaf=1, min_samples_split=4, n_estimators=300, score=0.938, total=   3.6s\n",
      "[CV] criterion=gini, max_depth=20, min_samples_leaf=1, min_samples_split=4, n_estimators=300 \n",
      "[CV]  criterion=gini, max_depth=20, min_samples_leaf=1, min_samples_split=4, n_estimators=300, score=0.938, total=   3.4s\n",
      "[CV] criterion=gini, max_depth=20, min_samples_leaf=1, min_samples_split=6, n_estimators=300 \n",
      "[CV]  criterion=gini, max_depth=20, min_samples_leaf=1, min_samples_split=6, n_estimators=300, score=0.875, total=   3.6s\n",
      "[CV] criterion=gini, max_depth=20, min_samples_leaf=1, min_samples_split=6, n_estimators=300 \n",
      "[CV]  criterion=gini, max_depth=20, min_samples_leaf=1, min_samples_split=6, n_estimators=300, score=0.889, total=   3.3s\n",
      "[CV] criterion=gini, max_depth=20, min_samples_leaf=1, min_samples_split=6, n_estimators=300 \n",
      "[CV]  criterion=gini, max_depth=20, min_samples_leaf=1, min_samples_split=6, n_estimators=300, score=0.884, total=   3.2s\n",
      "[CV] criterion=gini, max_depth=20, min_samples_leaf=1, min_samples_split=6, n_estimators=300 \n",
      "[CV]  criterion=gini, max_depth=20, min_samples_leaf=1, min_samples_split=6, n_estimators=300, score=0.935, total=   3.3s\n",
      "[CV] criterion=gini, max_depth=20, min_samples_leaf=1, min_samples_split=6, n_estimators=300 \n",
      "[CV]  criterion=gini, max_depth=20, min_samples_leaf=1, min_samples_split=6, n_estimators=300, score=0.936, total=   3.6s\n",
      "[CV] criterion=gini, max_depth=20, min_samples_leaf=2, min_samples_split=2, n_estimators=300 \n",
      "[CV]  criterion=gini, max_depth=20, min_samples_leaf=2, min_samples_split=2, n_estimators=300, score=0.874, total=   3.5s\n",
      "[CV] criterion=gini, max_depth=20, min_samples_leaf=2, min_samples_split=2, n_estimators=300 \n",
      "[CV]  criterion=gini, max_depth=20, min_samples_leaf=2, min_samples_split=2, n_estimators=300, score=0.890, total=   3.2s\n",
      "[CV] criterion=gini, max_depth=20, min_samples_leaf=2, min_samples_split=2, n_estimators=300 \n",
      "[CV]  criterion=gini, max_depth=20, min_samples_leaf=2, min_samples_split=2, n_estimators=300, score=0.881, total=   4.2s\n",
      "[CV] criterion=gini, max_depth=20, min_samples_leaf=2, min_samples_split=2, n_estimators=300 \n",
      "[CV]  criterion=gini, max_depth=20, min_samples_leaf=2, min_samples_split=2, n_estimators=300, score=0.935, total=   4.3s\n",
      "[CV] criterion=gini, max_depth=20, min_samples_leaf=2, min_samples_split=2, n_estimators=300 \n",
      "[CV]  criterion=gini, max_depth=20, min_samples_leaf=2, min_samples_split=2, n_estimators=300, score=0.934, total=   5.5s\n",
      "[CV] criterion=gini, max_depth=20, min_samples_leaf=2, min_samples_split=4, n_estimators=300 \n",
      "[CV]  criterion=gini, max_depth=20, min_samples_leaf=2, min_samples_split=4, n_estimators=300, score=0.874, total=   4.1s\n",
      "[CV] criterion=gini, max_depth=20, min_samples_leaf=2, min_samples_split=4, n_estimators=300 \n",
      "[CV]  criterion=gini, max_depth=20, min_samples_leaf=2, min_samples_split=4, n_estimators=300, score=0.890, total=   3.7s\n",
      "[CV] criterion=gini, max_depth=20, min_samples_leaf=2, min_samples_split=4, n_estimators=300 \n",
      "[CV]  criterion=gini, max_depth=20, min_samples_leaf=2, min_samples_split=4, n_estimators=300, score=0.881, total=   4.1s\n",
      "[CV] criterion=gini, max_depth=20, min_samples_leaf=2, min_samples_split=4, n_estimators=300 \n",
      "[CV]  criterion=gini, max_depth=20, min_samples_leaf=2, min_samples_split=4, n_estimators=300, score=0.935, total=   3.7s\n",
      "[CV] criterion=gini, max_depth=20, min_samples_leaf=2, min_samples_split=4, n_estimators=300 \n",
      "[CV]  criterion=gini, max_depth=20, min_samples_leaf=2, min_samples_split=4, n_estimators=300, score=0.934, total=   3.6s\n",
      "[CV] criterion=gini, max_depth=20, min_samples_leaf=2, min_samples_split=6, n_estimators=300 \n",
      "[CV]  criterion=gini, max_depth=20, min_samples_leaf=2, min_samples_split=6, n_estimators=300, score=0.873, total=   3.6s\n",
      "[CV] criterion=gini, max_depth=20, min_samples_leaf=2, min_samples_split=6, n_estimators=300 \n",
      "[CV]  criterion=gini, max_depth=20, min_samples_leaf=2, min_samples_split=6, n_estimators=300, score=0.888, total=   3.5s\n",
      "[CV] criterion=gini, max_depth=20, min_samples_leaf=2, min_samples_split=6, n_estimators=300 \n",
      "[CV]  criterion=gini, max_depth=20, min_samples_leaf=2, min_samples_split=6, n_estimators=300, score=0.885, total=   3.9s\n",
      "[CV] criterion=gini, max_depth=20, min_samples_leaf=2, min_samples_split=6, n_estimators=300 \n",
      "[CV]  criterion=gini, max_depth=20, min_samples_leaf=2, min_samples_split=6, n_estimators=300, score=0.935, total=   3.9s\n",
      "[CV] criterion=gini, max_depth=20, min_samples_leaf=2, min_samples_split=6, n_estimators=300 \n",
      "[CV]  criterion=gini, max_depth=20, min_samples_leaf=2, min_samples_split=6, n_estimators=300, score=0.932, total=   3.6s\n",
      "[CV] criterion=gini, max_depth=20, min_samples_leaf=3, min_samples_split=2, n_estimators=300 \n",
      "[CV]  criterion=gini, max_depth=20, min_samples_leaf=3, min_samples_split=2, n_estimators=300, score=0.875, total=   4.8s\n",
      "[CV] criterion=gini, max_depth=20, min_samples_leaf=3, min_samples_split=2, n_estimators=300 \n",
      "[CV]  criterion=gini, max_depth=20, min_samples_leaf=3, min_samples_split=2, n_estimators=300, score=0.890, total=   5.5s\n",
      "[CV] criterion=gini, max_depth=20, min_samples_leaf=3, min_samples_split=2, n_estimators=300 \n",
      "[CV]  criterion=gini, max_depth=20, min_samples_leaf=3, min_samples_split=2, n_estimators=300, score=0.881, total=   4.9s\n",
      "[CV] criterion=gini, max_depth=20, min_samples_leaf=3, min_samples_split=2, n_estimators=300 \n",
      "[CV]  criterion=gini, max_depth=20, min_samples_leaf=3, min_samples_split=2, n_estimators=300, score=0.931, total=   3.8s\n",
      "[CV] criterion=gini, max_depth=20, min_samples_leaf=3, min_samples_split=2, n_estimators=300 \n",
      "[CV]  criterion=gini, max_depth=20, min_samples_leaf=3, min_samples_split=2, n_estimators=300, score=0.930, total=   4.6s\n",
      "[CV] criterion=gini, max_depth=20, min_samples_leaf=3, min_samples_split=4, n_estimators=300 \n",
      "[CV]  criterion=gini, max_depth=20, min_samples_leaf=3, min_samples_split=4, n_estimators=300, score=0.875, total=   3.6s\n",
      "[CV] criterion=gini, max_depth=20, min_samples_leaf=3, min_samples_split=4, n_estimators=300 \n",
      "[CV]  criterion=gini, max_depth=20, min_samples_leaf=3, min_samples_split=4, n_estimators=300, score=0.890, total=   3.3s\n",
      "[CV] criterion=gini, max_depth=20, min_samples_leaf=3, min_samples_split=4, n_estimators=300 \n",
      "[CV]  criterion=gini, max_depth=20, min_samples_leaf=3, min_samples_split=4, n_estimators=300, score=0.881, total=   3.2s\n",
      "[CV] criterion=gini, max_depth=20, min_samples_leaf=3, min_samples_split=4, n_estimators=300 \n",
      "[CV]  criterion=gini, max_depth=20, min_samples_leaf=3, min_samples_split=4, n_estimators=300, score=0.931, total=   3.6s\n",
      "[CV] criterion=gini, max_depth=20, min_samples_leaf=3, min_samples_split=4, n_estimators=300 \n",
      "[CV]  criterion=gini, max_depth=20, min_samples_leaf=3, min_samples_split=4, n_estimators=300, score=0.930, total=   3.5s\n",
      "[CV] criterion=gini, max_depth=20, min_samples_leaf=3, min_samples_split=6, n_estimators=300 \n"
     ]
    },
    {
     "name": "stdout",
     "output_type": "stream",
     "text": [
      "[CV]  criterion=gini, max_depth=20, min_samples_leaf=3, min_samples_split=6, n_estimators=300, score=0.875, total=   3.6s\n",
      "[CV] criterion=gini, max_depth=20, min_samples_leaf=3, min_samples_split=6, n_estimators=300 \n",
      "[CV]  criterion=gini, max_depth=20, min_samples_leaf=3, min_samples_split=6, n_estimators=300, score=0.890, total=   3.5s\n",
      "[CV] criterion=gini, max_depth=20, min_samples_leaf=3, min_samples_split=6, n_estimators=300 \n",
      "[CV]  criterion=gini, max_depth=20, min_samples_leaf=3, min_samples_split=6, n_estimators=300, score=0.881, total=   3.6s\n",
      "[CV] criterion=gini, max_depth=20, min_samples_leaf=3, min_samples_split=6, n_estimators=300 \n",
      "[CV]  criterion=gini, max_depth=20, min_samples_leaf=3, min_samples_split=6, n_estimators=300, score=0.931, total=   4.3s\n",
      "[CV] criterion=gini, max_depth=20, min_samples_leaf=3, min_samples_split=6, n_estimators=300 \n",
      "[CV]  criterion=gini, max_depth=20, min_samples_leaf=3, min_samples_split=6, n_estimators=300, score=0.930, total=   3.4s\n",
      "[CV] criterion=gini, max_depth=30, min_samples_leaf=1, min_samples_split=2, n_estimators=300 \n",
      "[CV]  criterion=gini, max_depth=30, min_samples_leaf=1, min_samples_split=2, n_estimators=300, score=0.875, total=   3.7s\n",
      "[CV] criterion=gini, max_depth=30, min_samples_leaf=1, min_samples_split=2, n_estimators=300 \n",
      "[CV]  criterion=gini, max_depth=30, min_samples_leaf=1, min_samples_split=2, n_estimators=300, score=0.889, total=   3.7s\n",
      "[CV] criterion=gini, max_depth=30, min_samples_leaf=1, min_samples_split=2, n_estimators=300 \n",
      "[CV]  criterion=gini, max_depth=30, min_samples_leaf=1, min_samples_split=2, n_estimators=300, score=0.886, total=   4.1s\n",
      "[CV] criterion=gini, max_depth=30, min_samples_leaf=1, min_samples_split=2, n_estimators=300 \n",
      "[CV]  criterion=gini, max_depth=30, min_samples_leaf=1, min_samples_split=2, n_estimators=300, score=0.938, total=   4.4s\n",
      "[CV] criterion=gini, max_depth=30, min_samples_leaf=1, min_samples_split=2, n_estimators=300 \n",
      "[CV]  criterion=gini, max_depth=30, min_samples_leaf=1, min_samples_split=2, n_estimators=300, score=0.944, total=   4.1s\n",
      "[CV] criterion=gini, max_depth=30, min_samples_leaf=1, min_samples_split=4, n_estimators=300 \n",
      "[CV]  criterion=gini, max_depth=30, min_samples_leaf=1, min_samples_split=4, n_estimators=300, score=0.875, total=   4.1s\n",
      "[CV] criterion=gini, max_depth=30, min_samples_leaf=1, min_samples_split=4, n_estimators=300 \n",
      "[CV]  criterion=gini, max_depth=30, min_samples_leaf=1, min_samples_split=4, n_estimators=300, score=0.888, total=   3.9s\n",
      "[CV] criterion=gini, max_depth=30, min_samples_leaf=1, min_samples_split=4, n_estimators=300 \n",
      "[CV]  criterion=gini, max_depth=30, min_samples_leaf=1, min_samples_split=4, n_estimators=300, score=0.884, total=   3.7s\n",
      "[CV] criterion=gini, max_depth=30, min_samples_leaf=1, min_samples_split=4, n_estimators=300 \n",
      "[CV]  criterion=gini, max_depth=30, min_samples_leaf=1, min_samples_split=4, n_estimators=300, score=0.938, total=   3.7s\n",
      "[CV] criterion=gini, max_depth=30, min_samples_leaf=1, min_samples_split=4, n_estimators=300 \n",
      "[CV]  criterion=gini, max_depth=30, min_samples_leaf=1, min_samples_split=4, n_estimators=300, score=0.939, total=   3.6s\n",
      "[CV] criterion=gini, max_depth=30, min_samples_leaf=1, min_samples_split=6, n_estimators=300 \n",
      "[CV]  criterion=gini, max_depth=30, min_samples_leaf=1, min_samples_split=6, n_estimators=300, score=0.877, total=   3.8s\n",
      "[CV] criterion=gini, max_depth=30, min_samples_leaf=1, min_samples_split=6, n_estimators=300 \n",
      "[CV]  criterion=gini, max_depth=30, min_samples_leaf=1, min_samples_split=6, n_estimators=300, score=0.890, total=   3.8s\n",
      "[CV] criterion=gini, max_depth=30, min_samples_leaf=1, min_samples_split=6, n_estimators=300 \n",
      "[CV]  criterion=gini, max_depth=30, min_samples_leaf=1, min_samples_split=6, n_estimators=300, score=0.886, total=   3.6s\n",
      "[CV] criterion=gini, max_depth=30, min_samples_leaf=1, min_samples_split=6, n_estimators=300 \n",
      "[CV]  criterion=gini, max_depth=30, min_samples_leaf=1, min_samples_split=6, n_estimators=300, score=0.935, total=   3.6s\n",
      "[CV] criterion=gini, max_depth=30, min_samples_leaf=1, min_samples_split=6, n_estimators=300 \n",
      "[CV]  criterion=gini, max_depth=30, min_samples_leaf=1, min_samples_split=6, n_estimators=300, score=0.938, total=   4.3s\n",
      "[CV] criterion=gini, max_depth=30, min_samples_leaf=2, min_samples_split=2, n_estimators=300 \n",
      "[CV]  criterion=gini, max_depth=30, min_samples_leaf=2, min_samples_split=2, n_estimators=300, score=0.877, total=   3.6s\n",
      "[CV] criterion=gini, max_depth=30, min_samples_leaf=2, min_samples_split=2, n_estimators=300 \n",
      "[CV]  criterion=gini, max_depth=30, min_samples_leaf=2, min_samples_split=2, n_estimators=300, score=0.888, total=   3.2s\n",
      "[CV] criterion=gini, max_depth=30, min_samples_leaf=2, min_samples_split=2, n_estimators=300 \n",
      "[CV]  criterion=gini, max_depth=30, min_samples_leaf=2, min_samples_split=2, n_estimators=300, score=0.880, total=   3.2s\n",
      "[CV] criterion=gini, max_depth=30, min_samples_leaf=2, min_samples_split=2, n_estimators=300 \n",
      "[CV]  criterion=gini, max_depth=30, min_samples_leaf=2, min_samples_split=2, n_estimators=300, score=0.934, total=   3.2s\n",
      "[CV] criterion=gini, max_depth=30, min_samples_leaf=2, min_samples_split=2, n_estimators=300 \n",
      "[CV]  criterion=gini, max_depth=30, min_samples_leaf=2, min_samples_split=2, n_estimators=300, score=0.936, total=   3.5s\n",
      "[CV] criterion=gini, max_depth=30, min_samples_leaf=2, min_samples_split=4, n_estimators=300 \n",
      "[CV]  criterion=gini, max_depth=30, min_samples_leaf=2, min_samples_split=4, n_estimators=300, score=0.877, total=   3.3s\n",
      "[CV] criterion=gini, max_depth=30, min_samples_leaf=2, min_samples_split=4, n_estimators=300 \n",
      "[CV]  criterion=gini, max_depth=30, min_samples_leaf=2, min_samples_split=4, n_estimators=300, score=0.888, total=   3.2s\n",
      "[CV] criterion=gini, max_depth=30, min_samples_leaf=2, min_samples_split=4, n_estimators=300 \n",
      "[CV]  criterion=gini, max_depth=30, min_samples_leaf=2, min_samples_split=4, n_estimators=300, score=0.880, total=   3.2s\n",
      "[CV] criterion=gini, max_depth=30, min_samples_leaf=2, min_samples_split=4, n_estimators=300 \n",
      "[CV]  criterion=gini, max_depth=30, min_samples_leaf=2, min_samples_split=4, n_estimators=300, score=0.934, total=   3.2s\n",
      "[CV] criterion=gini, max_depth=30, min_samples_leaf=2, min_samples_split=4, n_estimators=300 \n",
      "[CV]  criterion=gini, max_depth=30, min_samples_leaf=2, min_samples_split=4, n_estimators=300, score=0.936, total=   3.5s\n",
      "[CV] criterion=gini, max_depth=30, min_samples_leaf=2, min_samples_split=6, n_estimators=300 \n",
      "[CV]  criterion=gini, max_depth=30, min_samples_leaf=2, min_samples_split=6, n_estimators=300, score=0.874, total=   3.3s\n",
      "[CV] criterion=gini, max_depth=30, min_samples_leaf=2, min_samples_split=6, n_estimators=300 \n",
      "[CV]  criterion=gini, max_depth=30, min_samples_leaf=2, min_samples_split=6, n_estimators=300, score=0.891, total=   3.2s\n",
      "[CV] criterion=gini, max_depth=30, min_samples_leaf=2, min_samples_split=6, n_estimators=300 \n",
      "[CV]  criterion=gini, max_depth=30, min_samples_leaf=2, min_samples_split=6, n_estimators=300, score=0.882, total=   3.2s\n",
      "[CV] criterion=gini, max_depth=30, min_samples_leaf=2, min_samples_split=6, n_estimators=300 \n",
      "[CV]  criterion=gini, max_depth=30, min_samples_leaf=2, min_samples_split=6, n_estimators=300, score=0.935, total=   3.1s\n",
      "[CV] criterion=gini, max_depth=30, min_samples_leaf=2, min_samples_split=6, n_estimators=300 \n",
      "[CV]  criterion=gini, max_depth=30, min_samples_leaf=2, min_samples_split=6, n_estimators=300, score=0.930, total=   3.4s\n",
      "[CV] criterion=gini, max_depth=30, min_samples_leaf=3, min_samples_split=2, n_estimators=300 \n",
      "[CV]  criterion=gini, max_depth=30, min_samples_leaf=3, min_samples_split=2, n_estimators=300, score=0.873, total=   3.2s\n",
      "[CV] criterion=gini, max_depth=30, min_samples_leaf=3, min_samples_split=2, n_estimators=300 \n",
      "[CV]  criterion=gini, max_depth=30, min_samples_leaf=3, min_samples_split=2, n_estimators=300, score=0.890, total=   3.3s\n",
      "[CV] criterion=gini, max_depth=30, min_samples_leaf=3, min_samples_split=2, n_estimators=300 \n",
      "[CV]  criterion=gini, max_depth=30, min_samples_leaf=3, min_samples_split=2, n_estimators=300, score=0.881, total=   3.2s\n",
      "[CV] criterion=gini, max_depth=30, min_samples_leaf=3, min_samples_split=2, n_estimators=300 \n"
     ]
    },
    {
     "name": "stdout",
     "output_type": "stream",
     "text": [
      "[CV]  criterion=gini, max_depth=30, min_samples_leaf=3, min_samples_split=2, n_estimators=300, score=0.931, total=   3.2s\n",
      "[CV] criterion=gini, max_depth=30, min_samples_leaf=3, min_samples_split=2, n_estimators=300 \n",
      "[CV]  criterion=gini, max_depth=30, min_samples_leaf=3, min_samples_split=2, n_estimators=300, score=0.929, total=   3.7s\n",
      "[CV] criterion=gini, max_depth=30, min_samples_leaf=3, min_samples_split=4, n_estimators=300 \n",
      "[CV]  criterion=gini, max_depth=30, min_samples_leaf=3, min_samples_split=4, n_estimators=300, score=0.873, total=   3.1s\n",
      "[CV] criterion=gini, max_depth=30, min_samples_leaf=3, min_samples_split=4, n_estimators=300 \n",
      "[CV]  criterion=gini, max_depth=30, min_samples_leaf=3, min_samples_split=4, n_estimators=300, score=0.890, total=   3.1s\n",
      "[CV] criterion=gini, max_depth=30, min_samples_leaf=3, min_samples_split=4, n_estimators=300 \n",
      "[CV]  criterion=gini, max_depth=30, min_samples_leaf=3, min_samples_split=4, n_estimators=300, score=0.881, total=   3.1s\n",
      "[CV] criterion=gini, max_depth=30, min_samples_leaf=3, min_samples_split=4, n_estimators=300 \n",
      "[CV]  criterion=gini, max_depth=30, min_samples_leaf=3, min_samples_split=4, n_estimators=300, score=0.931, total=   3.1s\n",
      "[CV] criterion=gini, max_depth=30, min_samples_leaf=3, min_samples_split=4, n_estimators=300 \n",
      "[CV]  criterion=gini, max_depth=30, min_samples_leaf=3, min_samples_split=4, n_estimators=300, score=0.929, total=   3.4s\n",
      "[CV] criterion=gini, max_depth=30, min_samples_leaf=3, min_samples_split=6, n_estimators=300 \n",
      "[CV]  criterion=gini, max_depth=30, min_samples_leaf=3, min_samples_split=6, n_estimators=300, score=0.873, total=   3.1s\n",
      "[CV] criterion=gini, max_depth=30, min_samples_leaf=3, min_samples_split=6, n_estimators=300 \n",
      "[CV]  criterion=gini, max_depth=30, min_samples_leaf=3, min_samples_split=6, n_estimators=300, score=0.890, total=   3.2s\n",
      "[CV] criterion=gini, max_depth=30, min_samples_leaf=3, min_samples_split=6, n_estimators=300 \n",
      "[CV]  criterion=gini, max_depth=30, min_samples_leaf=3, min_samples_split=6, n_estimators=300, score=0.881, total=   3.1s\n",
      "[CV] criterion=gini, max_depth=30, min_samples_leaf=3, min_samples_split=6, n_estimators=300 \n",
      "[CV]  criterion=gini, max_depth=30, min_samples_leaf=3, min_samples_split=6, n_estimators=300, score=0.931, total=   3.1s\n",
      "[CV] criterion=gini, max_depth=30, min_samples_leaf=3, min_samples_split=6, n_estimators=300 \n",
      "[CV]  criterion=gini, max_depth=30, min_samples_leaf=3, min_samples_split=6, n_estimators=300, score=0.929, total=   3.4s\n",
      "[CV] criterion=gini, max_depth=40, min_samples_leaf=1, min_samples_split=2, n_estimators=300 \n",
      "[CV]  criterion=gini, max_depth=40, min_samples_leaf=1, min_samples_split=2, n_estimators=300, score=0.875, total=   3.4s\n",
      "[CV] criterion=gini, max_depth=40, min_samples_leaf=1, min_samples_split=2, n_estimators=300 \n",
      "[CV]  criterion=gini, max_depth=40, min_samples_leaf=1, min_samples_split=2, n_estimators=300, score=0.889, total=   3.3s\n",
      "[CV] criterion=gini, max_depth=40, min_samples_leaf=1, min_samples_split=2, n_estimators=300 \n",
      "[CV]  criterion=gini, max_depth=40, min_samples_leaf=1, min_samples_split=2, n_estimators=300, score=0.886, total=   3.3s\n",
      "[CV] criterion=gini, max_depth=40, min_samples_leaf=1, min_samples_split=2, n_estimators=300 \n",
      "[CV]  criterion=gini, max_depth=40, min_samples_leaf=1, min_samples_split=2, n_estimators=300, score=0.938, total=   3.4s\n",
      "[CV] criterion=gini, max_depth=40, min_samples_leaf=1, min_samples_split=2, n_estimators=300 \n",
      "[CV]  criterion=gini, max_depth=40, min_samples_leaf=1, min_samples_split=2, n_estimators=300, score=0.944, total=   3.6s\n",
      "[CV] criterion=gini, max_depth=40, min_samples_leaf=1, min_samples_split=4, n_estimators=300 \n",
      "[CV]  criterion=gini, max_depth=40, min_samples_leaf=1, min_samples_split=4, n_estimators=300, score=0.875, total=   3.3s\n",
      "[CV] criterion=gini, max_depth=40, min_samples_leaf=1, min_samples_split=4, n_estimators=300 \n",
      "[CV]  criterion=gini, max_depth=40, min_samples_leaf=1, min_samples_split=4, n_estimators=300, score=0.888, total=   3.3s\n",
      "[CV] criterion=gini, max_depth=40, min_samples_leaf=1, min_samples_split=4, n_estimators=300 \n",
      "[CV]  criterion=gini, max_depth=40, min_samples_leaf=1, min_samples_split=4, n_estimators=300, score=0.884, total=   3.3s\n",
      "[CV] criterion=gini, max_depth=40, min_samples_leaf=1, min_samples_split=4, n_estimators=300 \n",
      "[CV]  criterion=gini, max_depth=40, min_samples_leaf=1, min_samples_split=4, n_estimators=300, score=0.939, total=   3.5s\n",
      "[CV] criterion=gini, max_depth=40, min_samples_leaf=1, min_samples_split=4, n_estimators=300 \n",
      "[CV]  criterion=gini, max_depth=40, min_samples_leaf=1, min_samples_split=4, n_estimators=300, score=0.939, total=   3.4s\n",
      "[CV] criterion=gini, max_depth=40, min_samples_leaf=1, min_samples_split=6, n_estimators=300 \n",
      "[CV]  criterion=gini, max_depth=40, min_samples_leaf=1, min_samples_split=6, n_estimators=300, score=0.877, total=   3.4s\n",
      "[CV] criterion=gini, max_depth=40, min_samples_leaf=1, min_samples_split=6, n_estimators=300 \n",
      "[CV]  criterion=gini, max_depth=40, min_samples_leaf=1, min_samples_split=6, n_estimators=300, score=0.890, total=   3.2s\n",
      "[CV] criterion=gini, max_depth=40, min_samples_leaf=1, min_samples_split=6, n_estimators=300 \n",
      "[CV]  criterion=gini, max_depth=40, min_samples_leaf=1, min_samples_split=6, n_estimators=300, score=0.886, total=   3.2s\n",
      "[CV] criterion=gini, max_depth=40, min_samples_leaf=1, min_samples_split=6, n_estimators=300 \n",
      "[CV]  criterion=gini, max_depth=40, min_samples_leaf=1, min_samples_split=6, n_estimators=300, score=0.935, total=   3.4s\n",
      "[CV] criterion=gini, max_depth=40, min_samples_leaf=1, min_samples_split=6, n_estimators=300 \n",
      "[CV]  criterion=gini, max_depth=40, min_samples_leaf=1, min_samples_split=6, n_estimators=300, score=0.938, total=   3.3s\n",
      "[CV] criterion=gini, max_depth=40, min_samples_leaf=2, min_samples_split=2, n_estimators=300 \n",
      "[CV]  criterion=gini, max_depth=40, min_samples_leaf=2, min_samples_split=2, n_estimators=300, score=0.877, total=   3.2s\n",
      "[CV] criterion=gini, max_depth=40, min_samples_leaf=2, min_samples_split=2, n_estimators=300 \n",
      "[CV]  criterion=gini, max_depth=40, min_samples_leaf=2, min_samples_split=2, n_estimators=300, score=0.888, total=   3.3s\n",
      "[CV] criterion=gini, max_depth=40, min_samples_leaf=2, min_samples_split=2, n_estimators=300 \n",
      "[CV]  criterion=gini, max_depth=40, min_samples_leaf=2, min_samples_split=2, n_estimators=300, score=0.880, total=   3.3s\n",
      "[CV] criterion=gini, max_depth=40, min_samples_leaf=2, min_samples_split=2, n_estimators=300 \n",
      "[CV]  criterion=gini, max_depth=40, min_samples_leaf=2, min_samples_split=2, n_estimators=300, score=0.934, total=   3.5s\n",
      "[CV] criterion=gini, max_depth=40, min_samples_leaf=2, min_samples_split=2, n_estimators=300 \n",
      "[CV]  criterion=gini, max_depth=40, min_samples_leaf=2, min_samples_split=2, n_estimators=300, score=0.936, total=   3.5s\n",
      "[CV] criterion=gini, max_depth=40, min_samples_leaf=2, min_samples_split=4, n_estimators=300 \n",
      "[CV]  criterion=gini, max_depth=40, min_samples_leaf=2, min_samples_split=4, n_estimators=300, score=0.877, total=   3.2s\n",
      "[CV] criterion=gini, max_depth=40, min_samples_leaf=2, min_samples_split=4, n_estimators=300 \n",
      "[CV]  criterion=gini, max_depth=40, min_samples_leaf=2, min_samples_split=4, n_estimators=300, score=0.888, total=   3.2s\n",
      "[CV] criterion=gini, max_depth=40, min_samples_leaf=2, min_samples_split=4, n_estimators=300 \n",
      "[CV]  criterion=gini, max_depth=40, min_samples_leaf=2, min_samples_split=4, n_estimators=300, score=0.880, total=   3.3s\n",
      "[CV] criterion=gini, max_depth=40, min_samples_leaf=2, min_samples_split=4, n_estimators=300 \n",
      "[CV]  criterion=gini, max_depth=40, min_samples_leaf=2, min_samples_split=4, n_estimators=300, score=0.934, total=   3.6s\n",
      "[CV] criterion=gini, max_depth=40, min_samples_leaf=2, min_samples_split=4, n_estimators=300 \n",
      "[CV]  criterion=gini, max_depth=40, min_samples_leaf=2, min_samples_split=4, n_estimators=300, score=0.936, total=   3.3s\n",
      "[CV] criterion=gini, max_depth=40, min_samples_leaf=2, min_samples_split=6, n_estimators=300 \n",
      "[CV]  criterion=gini, max_depth=40, min_samples_leaf=2, min_samples_split=6, n_estimators=300, score=0.874, total=   3.2s\n",
      "[CV] criterion=gini, max_depth=40, min_samples_leaf=2, min_samples_split=6, n_estimators=300 \n"
     ]
    },
    {
     "name": "stdout",
     "output_type": "stream",
     "text": [
      "[CV]  criterion=gini, max_depth=40, min_samples_leaf=2, min_samples_split=6, n_estimators=300, score=0.891, total=   3.1s\n",
      "[CV] criterion=gini, max_depth=40, min_samples_leaf=2, min_samples_split=6, n_estimators=300 \n",
      "[CV]  criterion=gini, max_depth=40, min_samples_leaf=2, min_samples_split=6, n_estimators=300, score=0.882, total=   3.2s\n",
      "[CV] criterion=gini, max_depth=40, min_samples_leaf=2, min_samples_split=6, n_estimators=300 \n",
      "[CV]  criterion=gini, max_depth=40, min_samples_leaf=2, min_samples_split=6, n_estimators=300, score=0.935, total=   3.4s\n",
      "[CV] criterion=gini, max_depth=40, min_samples_leaf=2, min_samples_split=6, n_estimators=300 \n",
      "[CV]  criterion=gini, max_depth=40, min_samples_leaf=2, min_samples_split=6, n_estimators=300, score=0.930, total=   3.1s\n",
      "[CV] criterion=gini, max_depth=40, min_samples_leaf=3, min_samples_split=2, n_estimators=300 \n",
      "[CV]  criterion=gini, max_depth=40, min_samples_leaf=3, min_samples_split=2, n_estimators=300, score=0.873, total=   3.1s\n",
      "[CV] criterion=gini, max_depth=40, min_samples_leaf=3, min_samples_split=2, n_estimators=300 \n",
      "[CV]  criterion=gini, max_depth=40, min_samples_leaf=3, min_samples_split=2, n_estimators=300, score=0.890, total=   3.1s\n",
      "[CV] criterion=gini, max_depth=40, min_samples_leaf=3, min_samples_split=2, n_estimators=300 \n",
      "[CV]  criterion=gini, max_depth=40, min_samples_leaf=3, min_samples_split=2, n_estimators=300, score=0.881, total=   3.2s\n",
      "[CV] criterion=gini, max_depth=40, min_samples_leaf=3, min_samples_split=2, n_estimators=300 \n",
      "[CV]  criterion=gini, max_depth=40, min_samples_leaf=3, min_samples_split=2, n_estimators=300, score=0.931, total=   3.3s\n",
      "[CV] criterion=gini, max_depth=40, min_samples_leaf=3, min_samples_split=2, n_estimators=300 \n",
      "[CV]  criterion=gini, max_depth=40, min_samples_leaf=3, min_samples_split=2, n_estimators=300, score=0.929, total=   3.1s\n",
      "[CV] criterion=gini, max_depth=40, min_samples_leaf=3, min_samples_split=4, n_estimators=300 \n",
      "[CV]  criterion=gini, max_depth=40, min_samples_leaf=3, min_samples_split=4, n_estimators=300, score=0.873, total=   3.1s\n",
      "[CV] criterion=gini, max_depth=40, min_samples_leaf=3, min_samples_split=4, n_estimators=300 \n",
      "[CV]  criterion=gini, max_depth=40, min_samples_leaf=3, min_samples_split=4, n_estimators=300, score=0.890, total=   3.1s\n",
      "[CV] criterion=gini, max_depth=40, min_samples_leaf=3, min_samples_split=4, n_estimators=300 \n",
      "[CV]  criterion=gini, max_depth=40, min_samples_leaf=3, min_samples_split=4, n_estimators=300, score=0.881, total=   3.2s\n",
      "[CV] criterion=gini, max_depth=40, min_samples_leaf=3, min_samples_split=4, n_estimators=300 \n",
      "[CV]  criterion=gini, max_depth=40, min_samples_leaf=3, min_samples_split=4, n_estimators=300, score=0.931, total=   3.3s\n",
      "[CV] criterion=gini, max_depth=40, min_samples_leaf=3, min_samples_split=4, n_estimators=300 \n",
      "[CV]  criterion=gini, max_depth=40, min_samples_leaf=3, min_samples_split=4, n_estimators=300, score=0.929, total=   3.1s\n",
      "[CV] criterion=gini, max_depth=40, min_samples_leaf=3, min_samples_split=6, n_estimators=300 \n",
      "[CV]  criterion=gini, max_depth=40, min_samples_leaf=3, min_samples_split=6, n_estimators=300, score=0.873, total=   3.1s\n",
      "[CV] criterion=gini, max_depth=40, min_samples_leaf=3, min_samples_split=6, n_estimators=300 \n",
      "[CV]  criterion=gini, max_depth=40, min_samples_leaf=3, min_samples_split=6, n_estimators=300, score=0.890, total=   3.3s\n",
      "[CV] criterion=gini, max_depth=40, min_samples_leaf=3, min_samples_split=6, n_estimators=300 \n",
      "[CV]  criterion=gini, max_depth=40, min_samples_leaf=3, min_samples_split=6, n_estimators=300, score=0.881, total=   3.3s\n",
      "[CV] criterion=gini, max_depth=40, min_samples_leaf=3, min_samples_split=6, n_estimators=300 \n",
      "[CV]  criterion=gini, max_depth=40, min_samples_leaf=3, min_samples_split=6, n_estimators=300, score=0.931, total=   3.5s\n",
      "[CV] criterion=gini, max_depth=40, min_samples_leaf=3, min_samples_split=6, n_estimators=300 \n",
      "[CV]  criterion=gini, max_depth=40, min_samples_leaf=3, min_samples_split=6, n_estimators=300, score=0.929, total=   3.6s\n"
     ]
    },
    {
     "name": "stderr",
     "output_type": "stream",
     "text": [
      "[Parallel(n_jobs=1)]: Done 135 out of 135 | elapsed:  7.9min finished\n"
     ]
    },
    {
     "data": {
      "text/plain": [
       "GridSearchCV(cv=5, error_score=nan,\n",
       "             estimator=RandomForestClassifier(bootstrap=True, ccp_alpha=0.0,\n",
       "                                              class_weight=None,\n",
       "                                              criterion='gini', max_depth=None,\n",
       "                                              max_features='auto',\n",
       "                                              max_leaf_nodes=None,\n",
       "                                              max_samples=None,\n",
       "                                              min_impurity_decrease=0.0,\n",
       "                                              min_impurity_split=None,\n",
       "                                              min_samples_leaf=1,\n",
       "                                              min_samples_split=2,\n",
       "                                              min_weight_fraction_leaf=0.0,\n",
       "                                              n_estimators=100, n_jobs=None,\n",
       "                                              oob_score=False, random_state=0,\n",
       "                                              verbose=0, warm_start=False),\n",
       "             iid='deprecated', n_jobs=None,\n",
       "             param_grid={'criterion': ['gini'], 'max_depth': [20, 30, 40],\n",
       "                         'min_samples_leaf': [1, 2, 3],\n",
       "                         'min_samples_split': [2, 4, 6],\n",
       "                         'n_estimators': [300]},\n",
       "             pre_dispatch='2*n_jobs', refit=True, return_train_score=False,\n",
       "             scoring='f1_weighted', verbose=3)"
      ]
     },
     "execution_count": 54,
     "metadata": {},
     "output_type": "execute_result"
    }
   ],
   "source": [
    "RF=RandomForestClassifier(random_state=0)\n",
    "parameters = {'n_estimators':[300],\n",
    "             'criterion':['gini'],\n",
    "              'max_depth':[20,30,40],\n",
    "             'min_samples_split':[2,4,6],\n",
    "           'min_samples_leaf':[1,2,3]\n",
    "             }\n",
    "grid_search = GridSearchCV(RF,param_grid=parameters,cv=5,scoring='f1_weighted',verbose=3)\n",
    "grid_search.fit(X_train_res,y_train_res)"
   ]
  },
  {
   "cell_type": "code",
   "execution_count": 55,
   "metadata": {},
   "outputs": [
    {
     "data": {
      "text/plain": [
       "{'criterion': 'gini',\n",
       " 'max_depth': 40,\n",
       " 'min_samples_leaf': 1,\n",
       " 'min_samples_split': 2,\n",
       " 'n_estimators': 300}"
      ]
     },
     "execution_count": 55,
     "metadata": {},
     "output_type": "execute_result"
    }
   ],
   "source": [
    "grid_search.best_params_"
   ]
  },
  {
   "cell_type": "code",
   "execution_count": 56,
   "metadata": {},
   "outputs": [
    {
     "data": {
      "text/plain": [
       "0.9064623347797248"
      ]
     },
     "execution_count": 56,
     "metadata": {},
     "output_type": "execute_result"
    }
   ],
   "source": [
    "grid_search.best_score_"
   ]
  },
  {
   "cell_type": "code",
   "execution_count": 129,
   "metadata": {},
   "outputs": [],
   "source": [
    "rf_features = ['PageValues',\n",
    " 'ExitRates',\n",
    " 'Administrative',\n",
    " 'Month',\n",
    " 'ProductRelated_Duration']"
   ]
  },
  {
   "cell_type": "code",
   "execution_count": 133,
   "metadata": {},
   "outputs": [
    {
     "name": "stdout",
     "output_type": "stream",
     "text": [
      "              precision    recall  f1-score   support\n",
      "\n",
      "       False       0.95      0.91      0.93      3115\n",
      "        True       0.60      0.75      0.67       559\n",
      "\n",
      "    accuracy                           0.89      3674\n",
      "   macro avg       0.78      0.83      0.80      3674\n",
      "weighted avg       0.90      0.89      0.89      3674\n",
      "\n",
      "Accuracy on training set: 1.000\n",
      "Accuracy on test set: 0.885\n"
     ]
    }
   ],
   "source": [
    "Random_forest = RandomForestClassifier(random_state=40,max_depth=20,min_samples_split=2,min_samples_leaf=1,n_estimators=300)\n",
    "Random_forest.fit(X_train_res[rf_features], y_train_res)\n",
    "y_pred_rf = Random_forest.predict(X_test[rf_features])\n",
    "print(classification_report(y_test,y_pred_rf))\n",
    "\n",
    "print(\"Accuracy on training set: {:.3f}\".format(Random_forest.score(X_train_res[rf_features], y_train_res)))\n",
    "print(\"Accuracy on test set: {:.3f}\".format(Random_forest.score(X_test[rf_features], y_test)))"
   ]
  },
  {
   "cell_type": "code",
   "execution_count": 153,
   "metadata": {},
   "outputs": [],
   "source": [
    "import pickle\n",
    "# Saving model to disk\n",
    "pickle.dump(Random_forest, open('model1.pkl','wb'))\n",
    "\n",
    "# Loading model to compare the results\n",
    "model = pickle.load(open('model1.pkl','rb'))\n",
    "a = model.predict([[999,0,3,7,9999]])"
   ]
  },
  {
   "cell_type": "code",
   "execution_count": 154,
   "metadata": {},
   "outputs": [
    {
     "name": "stdout",
     "output_type": "stream",
     "text": [
      "Hello True\n"
     ]
    }
   ],
   "source": [
    "if(a):\n",
    "    print('Hello True')\n",
    "else:\n",
    "    print(\"Hello\")"
   ]
  },
  {
   "cell_type": "code",
   "execution_count": null,
   "metadata": {},
   "outputs": [],
   "source": []
  }
 ],
 "metadata": {
  "kernelspec": {
   "display_name": "Python 3",
   "language": "python",
   "name": "python3"
  },
  "language_info": {
   "codemirror_mode": {
    "name": "ipython",
    "version": 3
   },
   "file_extension": ".py",
   "mimetype": "text/x-python",
   "name": "python",
   "nbconvert_exporter": "python",
   "pygments_lexer": "ipython3",
   "version": "3.7.3"
  }
 },
 "nbformat": 4,
 "nbformat_minor": 2
}
